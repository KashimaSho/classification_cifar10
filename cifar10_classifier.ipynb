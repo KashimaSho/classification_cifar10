{
 "cells": [
  {
   "cell_type": "code",
   "execution_count": 9,
   "id": "bcb85b41-1fef-4e80-994a-10472159f0c7",
   "metadata": {},
   "outputs": [],
   "source": [
    "import torch\n",
    "import torchvision\n",
    "import torchvision.transforms as transforms"
   ]
  },
  {
   "cell_type": "code",
   "execution_count": 10,
   "id": "e12b7ca7",
   "metadata": {},
   "outputs": [
    {
     "name": "stdout",
     "output_type": "stream",
     "text": [
      "2.1.2\n"
     ]
    }
   ],
   "source": [
    "print(torch.__version__)"
   ]
  },
  {
   "cell_type": "code",
   "execution_count": 11,
   "id": "eb1d4759-5d36-417c-a258-83c124bfe773",
   "metadata": {},
   "outputs": [
    {
     "name": "stdout",
     "output_type": "stream",
     "text": [
      "Files already downloaded and verified\n",
      "Files already downloaded and verified\n"
     ]
    }
   ],
   "source": [
    "#PLI images of range [0, 1] --> Tensors of normalized range [-1, 1]\n",
    "transform = transforms.Compose(\n",
    "    [transforms.ToTensor(),\n",
    "     transforms.Normalize((0.5, 0.5, 0.5), (0.5, 0.5, 0.5))]\n",
    ")\n",
    "\n",
    "batch_size = 4\n",
    "\n",
    "trainset = torchvision.datasets.CIFAR10(root='./data', train=True, download=True, transform=transform)\n",
    "trainloader = torch.utils.data.DataLoader(trainset, batch_size=batch_size, shuffle=True, num_workers=2)\n",
    "testset = torchvision.datasets.CIFAR10(root='./data', train=False, download=True, transform=transform)\n",
    "testloader = torch.utils.data.DataLoader(testset, batch_size=batch_size, shuffle=False, num_workers=2)\n",
    "\n",
    "\n",
    "classes = ('plane', 'car', 'bird', 'cat', 'deer', 'dog', 'frog', 'horse', 'ship', 'truck')"
   ]
  },
  {
   "cell_type": "code",
   "execution_count": 12,
   "id": "1eae28ae",
   "metadata": {},
   "outputs": [
    {
     "data": {
      "image/png": "[encoded data removed]",
      "text/plain": [
       "<Figure size 640x480 with 1 Axes>"
      ]
     },
     "metadata": {},
     "output_type": "display_data"
    },
    {
     "name": "stdout",
     "output_type": "stream",
     "text": [
      "dog   car   dog   frog \n"
     ]
    }
   ],
   "source": [
    "import matplotlib.pyplot as plt\n",
    "import numpy as np\n",
    "\n",
    "def imshow(img):\n",
    "    img = img /2 + 0.5 #[-1, 1] --> [0, 1]\n",
    "    npimg = img.numpy()\n",
    "    plt.imshow(np.transpose(npimg, (1,2,0)))\n",
    "    plt.show()\n",
    "\n",
    "dataiter = iter(trainloader)\n",
    "images, labels = next(dataiter)\n",
    "\n",
    "imshow(torchvision.utils.make_grid(images))\n",
    "print(' '.join(f'{classes[labels[j]]:5s}' for j in range(batch_size)))\n"
   ]
  },
  {
   "cell_type": "code",
   "execution_count": 13,
   "id": "0dec84f1",
   "metadata": {},
   "outputs": [],
   "source": [
    "import torch.nn as nn\n",
    "import torch.nn.functional as F\n",
    "\n",
    "class Net(nn.Module):\n",
    "    def __init__(self):\n",
    "        super().__init__()\n",
    "        self.conv1 = nn.Conv2d(3,6,5)\n",
    "        self.pool = nn.MaxPool2d(2,2)\n",
    "        self.conv2 = nn.Conv2d(6,16,5)\n",
    "        self.fc1 = nn.Linear(16*5*5,120)\n",
    "        self.fc2 = nn.Linear(120,84)\n",
    "        self.fc3 = nn.Linear(84,10)\n",
    "    \n",
    "    def forward(self, x):\n",
    "        x = self.pool(F.relu(self.conv1(x)))\n",
    "        x = self.pool(F.relu(self.conv2(x)))\n",
    "        x = torch.flatten(x, 1)\n",
    "        x = F.relu(self.fc1(x))\n",
    "        x = F.relu(self.fc2(x))\n",
    "        x = self.fc3(x)\n",
    "        return x\n",
    "\n",
    "net = Net()\n"
   ]
  },
  {
   "cell_type": "code",
   "execution_count": 14,
   "id": "77e24bfc",
   "metadata": {},
   "outputs": [],
   "source": [
    "import torch.optim as optim\n",
    "\n",
    "criterion = nn.CrossEntropyLoss()\n",
    "optimizer = optim.SGD(net.parameters(), lr=0.001, momentum=0.9)"
   ]
  },
  {
   "cell_type": "code",
   "execution_count": 15,
   "id": "f0e3613d",
   "metadata": {},
   "outputs": [
    {
     "name": "stdout",
     "output_type": "stream",
     "text": [
      "cuda:0\n"
     ]
    },
    {
     "data": {
      "text/plain": [
       "Net(\n",
       "  (conv1): Conv2d(3, 6, kernel_size=(5, 5), stride=(1, 1))\n",
       "  (pool): MaxPool2d(kernel_size=2, stride=2, padding=0, dilation=1, ceil_mode=False)\n",
       "  (conv2): Conv2d(6, 16, kernel_size=(5, 5), stride=(1, 1))\n",
       "  (fc1): Linear(in_features=400, out_features=120, bias=True)\n",
       "  (fc2): Linear(in_features=120, out_features=84, bias=True)\n",
       "  (fc3): Linear(in_features=84, out_features=10, bias=True)\n",
       ")"
      ]
     },
     "execution_count": 15,
     "metadata": {},
     "output_type": "execute_result"
    }
   ],
   "source": [
    "device = torch.device('cuda:0' if torch.cuda.is_available() else 'cpu')\n",
    "print(device)\n",
    "net.to(device=device)\n"
   ]
  },
  {
   "cell_type": "code",
   "execution_count": null,
   "id": "e752de15",
   "metadata": {},
   "outputs": [],
   "source": []
  },
  {
   "cell_type": "code",
   "execution_count": 16,
   "id": "6f33fe87",
   "metadata": {},
   "outputs": [
    {
     "name": "stdout",
     "output_type": "stream",
     "text": [
      "epoch: 1,  2000, loss: 2.223\n",
      "epoch: 1,  4000, loss: 1.905\n",
      "epoch: 1,  6000, loss: 1.686\n",
      "epoch: 1,  8000, loss: 1.605\n",
      "epoch: 1, 10000, loss: 1.531\n",
      "epoch: 1, 12000, loss: 1.481\n",
      "epoch: 2,  2000, loss: 1.416\n",
      "epoch: 2,  4000, loss: 1.387\n",
      "epoch: 2,  6000, loss: 1.393\n",
      "epoch: 2,  8000, loss: 1.357\n",
      "epoch: 2, 10000, loss: 1.333\n",
      "epoch: 2, 12000, loss: 1.314\n",
      "epoch: 3,  2000, loss: 1.271\n",
      "epoch: 3,  4000, loss: 1.241\n",
      "epoch: 3,  6000, loss: 1.244\n",
      "epoch: 3,  8000, loss: 1.234\n",
      "epoch: 3, 10000, loss: 1.231\n",
      "epoch: 3, 12000, loss: 1.240\n",
      "epoch: 4,  2000, loss: 1.137\n",
      "epoch: 4,  4000, loss: 1.171\n",
      "epoch: 4,  6000, loss: 1.150\n",
      "epoch: 4,  8000, loss: 1.159\n",
      "epoch: 4, 10000, loss: 1.133\n",
      "epoch: 4, 12000, loss: 1.140\n",
      "epoch: 5,  2000, loss: 1.075\n",
      "epoch: 5,  4000, loss: 1.087\n",
      "epoch: 5,  6000, loss: 1.068\n",
      "epoch: 5,  8000, loss: 1.101\n",
      "epoch: 5, 10000, loss: 1.085\n",
      "epoch: 5, 12000, loss: 1.069\n",
      "epoch: 6,  2000, loss: 1.001\n",
      "epoch: 6,  4000, loss: 1.019\n",
      "epoch: 6,  6000, loss: 1.014\n",
      "epoch: 6,  8000, loss: 1.044\n",
      "epoch: 6, 10000, loss: 1.024\n",
      "epoch: 6, 12000, loss: 1.029\n",
      "epoch: 7,  2000, loss: 0.954\n",
      "epoch: 7,  4000, loss: 0.972\n",
      "epoch: 7,  6000, loss: 0.959\n",
      "epoch: 7,  8000, loss: 1.001\n",
      "epoch: 7, 10000, loss: 0.992\n",
      "epoch: 7, 12000, loss: 0.994\n",
      "epoch: 8,  2000, loss: 0.905\n",
      "epoch: 8,  4000, loss: 0.927\n",
      "epoch: 8,  6000, loss: 0.929\n",
      "epoch: 8,  8000, loss: 0.951\n",
      "epoch: 8, 10000, loss: 0.944\n",
      "epoch: 8, 12000, loss: 0.938\n",
      "epoch: 9,  2000, loss: 0.868\n",
      "epoch: 9,  4000, loss: 0.880\n",
      "epoch: 9,  6000, loss: 0.906\n",
      "epoch: 9,  8000, loss: 0.895\n",
      "epoch: 9, 10000, loss: 0.900\n",
      "epoch: 9, 12000, loss: 0.934\n",
      "epoch: 10,  2000, loss: 0.817\n",
      "epoch: 10,  4000, loss: 0.865\n",
      "epoch: 10,  6000, loss: 0.874\n",
      "epoch: 10,  8000, loss: 0.854\n",
      "epoch: 10, 10000, loss: 0.896\n",
      "epoch: 10, 12000, loss: 0.891\n",
      "epoch: 11,  2000, loss: 0.805\n",
      "epoch: 11,  4000, loss: 0.822\n",
      "epoch: 11,  6000, loss: 0.845\n",
      "epoch: 11,  8000, loss: 0.834\n",
      "epoch: 11, 10000, loss: 0.875\n",
      "epoch: 11, 12000, loss: 0.891\n",
      "epoch: 12,  2000, loss: 0.756\n",
      "epoch: 12,  4000, loss: 0.804\n",
      "epoch: 12,  6000, loss: 0.827\n",
      "epoch: 12,  8000, loss: 0.816\n",
      "epoch: 12, 10000, loss: 0.853\n",
      "epoch: 12, 12000, loss: 0.846\n",
      "epoch: 13,  2000, loss: 0.715\n",
      "epoch: 13,  4000, loss: 0.778\n",
      "epoch: 13,  6000, loss: 0.785\n",
      "epoch: 13,  8000, loss: 0.794\n",
      "epoch: 13, 10000, loss: 0.819\n",
      "epoch: 13, 12000, loss: 0.857\n",
      "epoch: 14,  2000, loss: 0.714\n",
      "epoch: 14,  4000, loss: 0.749\n",
      "epoch: 14,  6000, loss: 0.770\n",
      "epoch: 14,  8000, loss: 0.800\n",
      "epoch: 14, 10000, loss: 0.779\n",
      "epoch: 14, 12000, loss: 0.821\n",
      "epoch: 15,  2000, loss: 0.695\n",
      "epoch: 15,  4000, loss: 0.741\n",
      "epoch: 15,  6000, loss: 0.739\n",
      "epoch: 15,  8000, loss: 0.773\n",
      "epoch: 15, 10000, loss: 0.775\n",
      "epoch: 15, 12000, loss: 0.781\n",
      "epoch: 16,  2000, loss: 0.681\n",
      "epoch: 16,  4000, loss: 0.714\n",
      "epoch: 16,  6000, loss: 0.731\n",
      "epoch: 16,  8000, loss: 0.747\n",
      "epoch: 16, 10000, loss: 0.770\n",
      "epoch: 16, 12000, loss: 0.793\n",
      "epoch: 17,  2000, loss: 0.663\n",
      "epoch: 17,  4000, loss: 0.705\n",
      "epoch: 17,  6000, loss: 0.741\n",
      "epoch: 17,  8000, loss: 0.740\n",
      "epoch: 17, 10000, loss: 0.752\n",
      "epoch: 17, 12000, loss: 0.773\n",
      "epoch: 18,  2000, loss: 0.651\n",
      "epoch: 18,  4000, loss: 0.721\n",
      "epoch: 18,  6000, loss: 0.706\n",
      "epoch: 18,  8000, loss: 0.723\n",
      "epoch: 18, 10000, loss: 0.749\n",
      "epoch: 18, 12000, loss: 0.753\n",
      "epoch: 19,  2000, loss: 0.638\n",
      "epoch: 19,  4000, loss: 0.687\n",
      "epoch: 19,  6000, loss: 0.726\n",
      "epoch: 19,  8000, loss: 0.736\n",
      "epoch: 19, 10000, loss: 0.727\n",
      "epoch: 19, 12000, loss: 0.741\n",
      "epoch: 20,  2000, loss: 0.610\n",
      "epoch: 20,  4000, loss: 0.675\n",
      "epoch: 20,  6000, loss: 0.702\n",
      "epoch: 20,  8000, loss: 0.715\n",
      "epoch: 20, 10000, loss: 0.708\n",
      "epoch: 20, 12000, loss: 0.751\n",
      "epoch: 21,  2000, loss: 0.612\n",
      "epoch: 21,  4000, loss: 0.654\n",
      "epoch: 21,  6000, loss: 0.679\n",
      "epoch: 21,  8000, loss: 0.683\n",
      "epoch: 21, 10000, loss: 0.720\n",
      "epoch: 21, 12000, loss: 0.720\n",
      "epoch: 22,  2000, loss: 0.622\n",
      "epoch: 22,  4000, loss: 0.640\n",
      "epoch: 22,  6000, loss: 0.688\n",
      "epoch: 22,  8000, loss: 0.688\n",
      "epoch: 22, 10000, loss: 0.712\n",
      "epoch: 22, 12000, loss: 0.726\n",
      "epoch: 23,  2000, loss: 0.620\n",
      "epoch: 23,  4000, loss: 0.654\n",
      "epoch: 23,  6000, loss: 0.683\n",
      "epoch: 23,  8000, loss: 0.703\n",
      "epoch: 23, 10000, loss: 0.701\n",
      "epoch: 23, 12000, loss: 0.693\n",
      "epoch: 24,  2000, loss: 0.595\n",
      "epoch: 24,  4000, loss: 0.655\n",
      "epoch: 24,  6000, loss: 0.681\n",
      "epoch: 24,  8000, loss: 0.670\n",
      "epoch: 24, 10000, loss: 0.684\n",
      "epoch: 24, 12000, loss: 0.702\n",
      "epoch: 25,  2000, loss: 0.588\n",
      "epoch: 25,  4000, loss: 0.611\n",
      "epoch: 25,  6000, loss: 0.652\n",
      "epoch: 25,  8000, loss: 0.685\n",
      "epoch: 25, 10000, loss: 0.703\n",
      "epoch: 25, 12000, loss: 0.697\n",
      "epoch: 26,  2000, loss: 0.592\n",
      "epoch: 26,  4000, loss: 0.630\n",
      "epoch: 26,  6000, loss: 0.653\n",
      "epoch: 26,  8000, loss: 0.640\n",
      "epoch: 26, 10000, loss: 0.692\n",
      "epoch: 26, 12000, loss: 0.710\n",
      "epoch: 27,  2000, loss: 0.588\n",
      "epoch: 27,  4000, loss: 0.600\n",
      "epoch: 27,  6000, loss: 0.648\n",
      "epoch: 27,  8000, loss: 0.667\n",
      "epoch: 27, 10000, loss: 0.690\n",
      "epoch: 27, 12000, loss: 0.705\n",
      "epoch: 28,  2000, loss: 0.568\n",
      "epoch: 28,  4000, loss: 0.623\n",
      "epoch: 28,  6000, loss: 0.656\n",
      "epoch: 28,  8000, loss: 0.655\n",
      "epoch: 28, 10000, loss: 0.665\n",
      "epoch: 28, 12000, loss: 0.706\n",
      "epoch: 29,  2000, loss: 0.577\n",
      "epoch: 29,  4000, loss: 0.602\n",
      "epoch: 29,  6000, loss: 0.665\n",
      "epoch: 29,  8000, loss: 0.652\n",
      "epoch: 29, 10000, loss: 0.661\n",
      "epoch: 29, 12000, loss: 0.714\n",
      "epoch: 30,  2000, loss: 0.574\n",
      "epoch: 30,  4000, loss: 0.590\n",
      "epoch: 30,  6000, loss: 0.645\n",
      "epoch: 30,  8000, loss: 0.639\n",
      "epoch: 30, 10000, loss: 0.667\n",
      "epoch: 30, 12000, loss: 0.679\n",
      "Finished Training!\n"
     ]
    }
   ],
   "source": [
    "loss_history = []\n",
    "for epoch in range(30):\n",
    "    running_loss = 0.0\n",
    "    loss_tmp = 0.0\n",
    "    for i, data in enumerate(iterable=trainloader, start=0):\n",
    "        inputs, labels = data[0].to(device), data[1].to(device)\n",
    "        optimizer.zero_grad()\n",
    "\n",
    "        outputs = net(inputs)\n",
    "        loss = criterion(outputs, labels)\n",
    "        loss.backward()\n",
    "        optimizer.step()\n",
    "\n",
    "        running_loss += loss.item()\n",
    "        loss_tmp += loss.item()\n",
    "        if i % 2000 == 1999:\n",
    "            print(f'epoch: {epoch+1}, {i+1:5d}, loss: {running_loss / 2000:.3f}')\n",
    "            running_loss = 0.0\n",
    "    loss_history.append(loss_tmp)\n",
    "\n",
    "print('Finished Training!')\n",
    "        "
   ]
  },
  {
   "cell_type": "code",
   "execution_count": 17,
   "id": "4b595270",
   "metadata": {},
   "outputs": [],
   "source": [
    "PATH = './cifar_net_30ep.pth'\n",
    "torch.save(net.state_dict(), PATH)"
   ]
  },
  {
   "cell_type": "code",
   "execution_count": 18,
   "id": "3bd23c2c",
   "metadata": {},
   "outputs": [
    {
     "data": {
      "image/png": "[encoded data removed]",
      "text/plain": [
       "<Figure size 640x480 with 1 Axes>"
      ]
     },
     "metadata": {},
     "output_type": "display_data"
    },
    {
     "name": "stdout",
     "output_type": "stream",
     "text": [
      "GT:  cat   ship  ship  plane\n"
     ]
    }
   ],
   "source": [
    "dataiter = iter(testloader)\n",
    "images, labels = next(dataiter)\n",
    "\n",
    "imshow(torchvision.utils.make_grid(images))\n",
    "print('GT: ', ' '.join(f'{classes[labels[j]]:5s}' for j in range(4)))"
   ]
  },
  {
   "cell_type": "code",
   "execution_count": 19,
   "id": "62fe6f81",
   "metadata": {},
   "outputs": [
    {
     "data": {
      "text/plain": [
       "<All keys matched successfully>"
      ]
     },
     "execution_count": 19,
     "metadata": {},
     "output_type": "execute_result"
    }
   ],
   "source": [
    "net = Net()\n",
    "net.load_state_dict(torch.load(PATH))"
   ]
  },
  {
   "cell_type": "code",
   "execution_count": 20,
   "id": "35b24223",
   "metadata": {},
   "outputs": [],
   "source": [
    "outputs = net(images)"
   ]
  },
  {
   "cell_type": "code",
   "execution_count": 21,
   "id": "7a7078cf",
   "metadata": {},
   "outputs": [
    {
     "name": "stdout",
     "output_type": "stream",
     "text": [
      "GT:  cat   ship  ship  plane\n",
      "Predicted:  cat   ship  frog  plane\n"
     ]
    }
   ],
   "source": [
    "_, predicted = torch.max(outputs, 1)\n",
    "print('GT: ', ' '.join(f'{classes[labels[j]]:5s}' for j in range(4)))\n",
    "print('Predicted: ', ' '.join(f'{classes[predicted[j]]:5s}' for j in range(4)))"
   ]
  },
  {
   "cell_type": "code",
   "execution_count": 22,
   "id": "b3c7e92b",
   "metadata": {},
   "outputs": [
    {
     "name": "stdout",
     "output_type": "stream",
     "text": [
      "Acc of net on 10000 test images: 57 %\n"
     ]
    }
   ],
   "source": [
    "correct = 0\n",
    "total = 0\n",
    "with torch.no_grad():\n",
    "    for data in testloader:\n",
    "        images, labels = data\n",
    "        outputs = net(images)\n",
    "        _, predicted = torch.max(outputs.data, 1)\n",
    "        total += labels.size(0)\n",
    "        correct += (predicted == labels).sum().item()\n",
    "print(f'Acc of net on 10000 test images: {100*correct // total} %')\n"
   ]
  },
  {
   "cell_type": "code",
   "execution_count": 23,
   "id": "39456752",
   "metadata": {},
   "outputs": [
    {
     "name": "stdout",
     "output_type": "stream",
     "text": [
      "Acc for class: plane is 57.1 %\n",
      "Acc for class: car   is 66.7 %\n",
      "Acc for class: bird  is 53.7 %\n",
      "Acc for class: cat   is 43.2 %\n",
      "Acc for class: deer  is 43.7 %\n",
      "Acc for class: dog   is 38.6 %\n",
      "Acc for class: frog  is 74.3 %\n",
      "Acc for class: horse is 69.2 %\n",
      "Acc for class: ship  is 72.9 %\n",
      "Acc for class: truck is 54.7 %\n"
     ]
    }
   ],
   "source": [
    "correct_pred = {classname: 0 for classname in classes}\n",
    "total_pred = {classname: 0 for classname in classes}\n",
    "\n",
    "with torch.no_grad():\n",
    "    for data in testloader:\n",
    "        images, labels = data\n",
    "        outputs = net(images)\n",
    "        _, predictions = torch.max(outputs, 1)\n",
    "        for label, predictions in zip(labels, predictions):\n",
    "            if label == predictions:\n",
    "                correct_pred[classes[label]] += 1\n",
    "            total_pred[classes[label]] += 1\n",
    "\n",
    "for classname, correct_cnt in correct_pred.items():\n",
    "    acc = 100*float(correct_cnt) / total_pred[classname]\n",
    "    print(f'Acc for class: {classname:5s} is {acc:.1f} %')\n"
   ]
  },
  {
   "cell_type": "code",
   "execution_count": 53,
   "id": "1857d6d2",
   "metadata": {},
   "outputs": [
    {
     "name": "stdout",
     "output_type": "stream",
     "text": [
      "[1.727, 1.366, 1.243, 1.148, 1.08, 1.023, 0.978, 0.935, 0.899, 0.867, 0.846, 0.819, 0.794, 0.774, 0.753, 0.742, 0.731, 0.718, 0.71, 0.695, 0.683, 0.682, 0.677, 0.666, 0.659, 0.657, 0.651, 0.647, 0.647, 0.635]\n",
      "[1, 2, 3, 4, 5, 6, 7, 8, 9, 10, 11, 12, 13, 14, 15, 16, 17, 18, 19, 20, 21, 22, 23, 24, 25, 26, 27, 28, 29, 30]\n"
     ]
    }
   ],
   "source": [
    "lh = list(map(lambda x: round(x/12500, 3), loss_history))\n",
    "print(lh)\n",
    "ep = list(range(1, 31))\n",
    "print(ep)"
   ]
  },
  {
   "cell_type": "code",
   "execution_count": 55,
   "id": "0efc012c",
   "metadata": {},
   "outputs": [
    {
     "data": {
      "image/png": "[encoded data removed]",
      "text/plain": [
       "<Figure size 640x480 with 1 Axes>"
      ]
     },
     "metadata": {},
     "output_type": "display_data"
    }
   ],
   "source": [
    "import pandas as pd\n",
    "df = pd.DataFrame(lh)\n",
    "plt.plot(ep, df)\n",
    "plt.title('loss progression')\n",
    "plt.xlabel('epoch')\n",
    "plt.ylabel('loss')\n",
    "plt.grid(True)\n",
    "plt.show()"
   ]
  },
  {
   "cell_type": "code",
   "execution_count": null,
   "id": "2440c960",
   "metadata": {},
   "outputs": [],
   "source": []
  }
 ],
 "metadata": {
  "kernelspec": {
   "display_name": "Python 3 (ipykernel)",
   "language": "python",
   "name": "python3"
  },
  "language_info": {
   "codemirror_mode": {
    "name": "ipython",
    "version": 3
   },
   "file_extension": ".py",
   "mimetype": "text/x-python",
   "name": "python",
   "nbconvert_exporter": "python",
   "pygments_lexer": "ipython3",
   "version": "3.11.7"
  }
 },
 "nbformat": 4,
 "nbformat_minor": 5
}
